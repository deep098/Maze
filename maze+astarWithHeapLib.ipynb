{
 "cells": [
  {
   "cell_type": "code",
   "execution_count": 30,
   "id": "c80649d3",
   "metadata": {},
   "outputs": [],
   "source": [
    "import math\n",
    "import numpy as np\n",
    "import random\n",
    "from random import choices\n",
    "from typing import TypeVar,List\n",
    "from sortedcontainers import SortedSet\n",
    "import heapq\n",
    "from colorama import init, Fore"
   ]
  },
  {
   "cell_type": "code",
   "execution_count": 31,
   "id": "5365b582",
   "metadata": {},
   "outputs": [],
   "source": [
    "class cell:\n",
    "    def __init__(self,x,y):\n",
    "        self.x = x\n",
    "        self.y = y\n",
    "        self.b = False\n",
    "        self.g = 0\n",
    "        self.f = 0\n",
    "        self.h = 0\n",
    "        self.h_new = 0\n",
    "    def __lt__(self, other: cell) -> bool:\n",
    "        return (self.h) < (other.h)\n",
    "    def set_hval(self,t_x,t_y):\n",
    "        self.h = abs(t_x - self.x) + abs(t_y - self.y)\n",
    "        self.f = self.g + self.h"
   ]
  },
  {
   "cell_type": "code",
   "execution_count": 41,
   "id": "c894a6df",
   "metadata": {},
   "outputs": [
    {
     "name": "stdout",
     "output_type": "stream",
     "text": [
      "14 14\n",
      "6\n"
     ]
    }
   ],
   "source": [
    "T = TypeVar('T')\n",
    "c = cell(1,2)\n",
    "c.set_hval(8,9)\n",
    "print(c.h, c.f)\n",
    "x = cell(7,9)\n",
    "li = list()\n",
    "#heapq.heapify(li)\n",
    "heapq.heappush(li,x)\n",
    "y = cell(6,7)\n",
    "heapq.heappush(li,y)\n",
    "li.remove(x)\n",
    "z = heapq.heappop(li)\n",
    "print(z.x)\n"
   ]
  },
  {
   "cell_type": "code",
   "execution_count": 33,
   "id": "9aa9d8d1",
   "metadata": {},
   "outputs": [],
   "source": [
    "class maze:\n",
    "    def __init__(self,rows,columns,sx,sy,tx,ty):\n",
    "        self.rows = rows\n",
    "        self.columns = columns\n",
    "        self.sx = sx\n",
    "        self.sy = sy\n",
    "        self.tx = tx\n",
    "        self.ty = ty\n",
    "        self.visited = [[False for i in range(self.rows)] for j in range(self.columns)]\n",
    "        self.options = ['b','u']\n",
    "        self.weights = [0.3,0.7]\n",
    "        self.drow = [0, 1, 0, -1]\n",
    "        self.dcol = [-1, 0, 1, 0]\n",
    "        #p = choices(self.options,self.weights)\n",
    "        #print(p)\n",
    "        self.mz = [] \n",
    "        for i in range(self.rows):\n",
    "            arr = []\n",
    "            for j in range(self.columns):\n",
    "                c = cell(i,j)\n",
    "                arr.append(c)\n",
    "            self.mz.append(arr)            \n",
    "    def isValid(self,r,c):\n",
    "        if (r < 0 or c < 0 or r >= self.rows or c >= self.columns):\n",
    "            return False\n",
    "        if (self.visited[r][c]):\n",
    "            return False\n",
    "        return True\n",
    "    def DFS(self,grid,sx,sy,tx,ty):\n",
    "        stk = []\n",
    "        stk.append([sx, sy])\n",
    "        while(len(stk)>0):\n",
    "            curr = stk[len(stk) - 1]\n",
    "            stk.remove(stk[len(stk) - 1])\n",
    "            r = curr[0]\n",
    "            c = curr[1]\n",
    "            if(self.isValid(r, c) == False):\n",
    "                continue\n",
    "            p = choices(self.options,self.weights)\n",
    "            self.visited[r][c] = True\n",
    "            if((r!= sx and c != sy) and (r!=tx or c != ty)):\n",
    "                if(p[0]== 'b'):\n",
    "                    self.mz[r][c].b = True\n",
    "            for i in range(4):\n",
    "                adjx = r + self.drow[i]\n",
    "                adjy = c + self.dcol[i]\n",
    "                stk.append([adjx, adjy])\n"
   ]
  },
  {
   "cell_type": "code",
   "execution_count": 34,
   "id": "70443898",
   "metadata": {
    "scrolled": true
   },
   "outputs": [
    {
     "name": "stdout",
     "output_type": "stream",
     "text": [
      "\u001b[34m s\u001b[32m -\u001b[32m -\u001b[32m -\u001b[32m -\u001b[32m -\u001b[32m -\u001b[32m -\u001b[32m -\u001b[32m -\n",
      "\n",
      "\u001b[32m -\u001b[32m -\u001b[31m x\u001b[32m -\u001b[32m -\u001b[32m -\u001b[31m x\u001b[32m -\u001b[32m -\u001b[32m -\n",
      "\n",
      "\u001b[32m -\u001b[31m x\u001b[32m -\u001b[31m x\u001b[32m -\u001b[32m -\u001b[32m -\u001b[31m x\u001b[31m x\u001b[31m x\n",
      "\n",
      "\u001b[32m -\u001b[31m x\u001b[31m x\u001b[32m -\u001b[32m -\u001b[31m x\u001b[32m -\u001b[31m x\u001b[32m -\u001b[32m -\n",
      "\n",
      "\u001b[32m -\u001b[32m -\u001b[32m -\u001b[31m x\u001b[31m x\u001b[31m x\u001b[32m -\u001b[31m x\u001b[32m -\u001b[32m -\n",
      "\n",
      "\u001b[32m -\u001b[32m -\u001b[31m x\u001b[31m x\u001b[32m -\u001b[32m -\u001b[32m -\u001b[32m -\u001b[31m x\u001b[32m -\n",
      "\n",
      "\u001b[32m -\u001b[31m x\u001b[32m -\u001b[32m -\u001b[32m -\u001b[32m -\u001b[32m -\u001b[31m x\u001b[32m -\u001b[32m -\n",
      "\n",
      "\u001b[32m -\u001b[32m -\u001b[32m -\u001b[32m -\u001b[32m -\u001b[32m -\u001b[32m -\u001b[32m -\u001b[32m -\u001b[32m -\n",
      "\n",
      "\u001b[32m -\u001b[32m -\u001b[32m -\u001b[31m x\u001b[31m x\u001b[31m x\u001b[32m -\u001b[32m -\u001b[32m -\u001b[31m x\n",
      "\n",
      "\u001b[32m -\u001b[32m -\u001b[32m -\u001b[31m x\u001b[32m -\u001b[31m x\u001b[32m -\u001b[32m -\u001b[32m -\u001b[34m t\n",
      "\n"
     ]
    }
   ],
   "source": [
    "m = maze(10,10,0,0,9,9)\n",
    "m.DFS([],0,0,19,19)\n",
    "l = []\n",
    "for i in range(10):\n",
    "    a = []\n",
    "    for j in range(10):\n",
    "        if(i == m.sx and j == m.sy):\n",
    "            a.append('-')\n",
    "            print(Fore.BLUE, f's', end=\"\")\n",
    "        elif(i == m.tx and j == m.ty):\n",
    "            a.append('-')\n",
    "            print(Fore.BLUE, f't', end=\"\")\n",
    "        elif m.mz[i][j].b:\n",
    "            a.append('x')\n",
    "            #print(i,j)\n",
    "            print(Fore.RED, f'x', end=\"\")\n",
    "        else:\n",
    "            a.append('-')\n",
    "            print(Fore.GREEN, f'-', end=\"\")\n",
    "    l.append(a)\n",
    "    print('\\n')\n"
   ]
  },
  {
   "cell_type": "code",
   "execution_count": 49,
   "id": "eaf399b7",
   "metadata": {},
   "outputs": [],
   "source": [
    "def Astar(grid,start_cell_ind,goal_cell_ind, weight = 1):\n",
    "    cells_processed = 0 # number of cells popped from the fringe before reaching the goal.\n",
    "    number_of_clashes = 0 # number of time we had to update priorities in the fringe.\n",
    "    start_cell = grid[start_cell_ind[0]][start_cell_ind[1]] # start cell of our grid.\n",
    "    goal_cell = grid[goal_cell_ind[0]][goal_cell_ind[1]] # goal cell of our grid\n",
    "    #open_list = SortedSet() # fringe, we have used sorted set as our priority queue\n",
    "    open_list = list()\n",
    "    close_list = set() # contains cells already processed, have used set for this purpose (O(1) lookup on average)\n",
    "    parent_dict = {} # stores parent child relationship, using dictionary for this\n",
    "    visited = set() # child already visited, using set for this purpose (O(1) lookup on average)\n",
    "    start_cell.g = 0 # Setting the g value of the start cell to 0\n",
    "    # setting the h and f value of the start cell using the weight and heuristic passed in the function arguments.\n",
    "    # weight is for q9\n",
    "    start_cell.set_hval(goal_cell_ind[0], goal_cell_ind[1])\n",
    "    #open_list.add((start_cell.f, start_cell.h, (start_cell.x, start_cell.y))) # adding the start cell to the priority queue\n",
    "    heapq.heappush(open_list,start_cell)\n",
    "    #print(heapq.heappop(open_list).x)\n",
    "    # In the queue we are pushing a tuple whose first coordinate is the f value, second coordinate is the h value \n",
    "    # then a tuple containing the location of the cell. The priority is set according to the f value in case of a \n",
    "    # tie h value is seen.\n",
    "    visited.add((start_cell.x, start_cell.y)) # updating the visited set as we are pushing the node in priority queue\n",
    "    while len(open_list)>0: # loop over the priority queue until it is not empty or we reach the goal node\n",
    "        #cl = open_list.pop(0) # pop the node with the least priority (it is at index 0 in the sorted set)\n",
    "        cl = heapq.heappop(open_list)\n",
    "        #curr_cell = grid[cl[-1][0]][cl[-1][1]] # the last index in cl contains the x and y coordinates, \n",
    "        # storing the node popped from the queue in curr_cell.\n",
    "        curr_cell = grid[cl.x][cl.y]\n",
    "        cells_processed += 1 # incrementing the number of cells processed (since we just popped from the queue)\n",
    "        close_list.add((curr_cell.x, curr_cell.y)) # adding the node to the closed list as it is about to be processed\n",
    "        if curr_cell == goal_cell: \n",
    "            # If the curr cell is the goal cell return the path from the curr cell to goal cell by backtracking \n",
    "            # from goal cell to curr cell using the parent dictionary as well as all the nodes \n",
    "            # that have been processed uptil now.\n",
    "            path = []\n",
    "            curr = curr_cell\n",
    "            while (curr.x, curr.y) != (start_cell_ind[0], start_cell_ind[1]):\n",
    "                path.append([curr.x, curr.y])\n",
    "                curr = parent_dict[(curr.x, curr.y)]\n",
    "            path.append([curr.x,curr.y])\n",
    "            return path[::-1], cells_processed, number_of_clashes\n",
    "        \n",
    "        children = [] # This list is used to store all the possible valid children of the cell \n",
    "        # currently being processed.\n",
    "        for new_pos in [(0,1),(0,-1),(1,0),(-1,0)]: # 4 main compass directions, field of view also the agent can \n",
    "            # only move to these locations\n",
    "            node_pos = (curr_cell.x+new_pos[0], curr_cell.y+new_pos[1]) # position of the child\n",
    "            if(node_pos[0] > len(grid)-1 or node_pos[1] > len(grid)-1 or node_pos[0] < 0 or node_pos[1] < 0):\n",
    "                # if the child is not part of the grid continue\n",
    "                continue\n",
    "            if(grid[node_pos[0]][node_pos[1]].b):\n",
    "                # if the child is blocked continue\n",
    "                continue\n",
    "            if((node_pos[0], node_pos[1]) in close_list):\n",
    "                # if child is in close list continue\n",
    "                continue\n",
    "            if((node_pos[0], node_pos[1]) in visited):\n",
    "                # if the child is already visited then compare the previous cost(f) to the new cost(f) and if the\n",
    "                # new cost is lower update the priority of the child in the priority queue, update the \n",
    "                # parent dictionary and update the g value of the node.\n",
    "                if curr_cell.g + 1 + grid[node_pos[0]][node_pos[1]].h < grid[node_pos[0]][node_pos[1]].f:\n",
    "                    number_of_clashes += 1 # increment the number of clashes by 1\n",
    "                    # To update the priority we remove the node from the sorted set (O(logn)) and reinsert with \n",
    "                    # new priority O(log(n)). \n",
    "                    #open_list.remove((grid[node_pos[0]][node_pos[1]].f, grid[node_pos[0]][node_pos[1]].h, (grid[node_pos[0]][node_pos[1]].x, grid[node_pos[0]][node_pos[1]].y)))\n",
    "                    #grid[node_pos[0]][node_pos[1]].g = curr_cell.g+1\n",
    "                    #grid[node_pos[0]][node_pos[1]].set_hval(goal_cell_ind[0], goal_cell_ind[1])\n",
    "                    #open_list.add((grid[node_pos[0]][node_pos[1]].f, grid[node_pos[0]][node_pos[1]].h, (grid[node_pos[0]][node_pos[1]].x, grid[node_pos[0]][node_pos[1]].y)))\n",
    "                    removalCell = grid[node_pos[0]][node_pos[1]]\n",
    "                    open_list.remove(removalCell)\n",
    "                    removalCell.g = curr_cell.g+1\n",
    "                    removalCell.set_hval(goal_cell_ind[0], goal_cell_ind[1])\n",
    "                    heapq.heappush(open_list,removalCell)                                \n",
    "                    parent_dict[(node_pos[0],node_pos[1])] = curr_cell # updating the parent dictionary\n",
    "            else:\n",
    "                # If the child is not visited update its g value, set its h and f value and add it to the \n",
    "                # children list after updating its parent.\n",
    "                grid[node_pos[0]][node_pos[1]].g = curr_cell.g + 1\n",
    "                grid[node_pos[0]][node_pos[1]].set_hval(goal_cell_ind[0], goal_cell_ind[1])\n",
    "                children.append(grid[node_pos[0]][node_pos[1]])\n",
    "                parent_dict[(node_pos[0],node_pos[1])] = curr_cell\n",
    "        if(children == []): # If no valid child continue\n",
    "            continue\n",
    "        for child in children: # else if valid children exist add them to the open list and update the visited set.\n",
    "            #open_list.add((child.f,child.h, (child.x, child.y)))\n",
    "            heapq.heappush(open_list,child)                                        \n",
    "            visited.add((child.x, child.y))\n",
    "    \n",
    "    return [], 0, 0"
   ]
  },
  {
   "cell_type": "code",
   "execution_count": 50,
   "id": "d20b7e4d",
   "metadata": {
    "scrolled": true
   },
   "outputs": [
    {
     "name": "stdout",
     "output_type": "stream",
     "text": [
      "[[0, 0], [0, 1], [0, 2], [0, 3], [0, 4], [0, 5], [1, 5], [2, 5], [2, 6], [3, 6], [4, 6], [5, 6], [6, 6], [7, 6], [7, 7], [7, 8], [8, 8], [9, 8], [9, 9]]\n"
     ]
    }
   ],
   "source": [
    "path, c, f = Astar(m.mz,[0,0],[9,9])\n",
    "print(path)"
   ]
  },
  {
   "cell_type": "code",
   "execution_count": 119,
   "id": "2ad03842",
   "metadata": {},
   "outputs": [
    {
     "ename": "TypeError",
     "evalue": "list expected at most 1 argument, got 3",
     "output_type": "error",
     "traceback": [
      "\u001b[1;31m---------------------------------------------------------------------------\u001b[0m",
      "\u001b[1;31mTypeError\u001b[0m                                 Traceback (most recent call last)",
      "Input \u001b[1;32mIn [119]\u001b[0m, in \u001b[0;36m<cell line: 5>\u001b[1;34m()\u001b[0m\n\u001b[0;32m      3\u001b[0m li \u001b[38;5;241m=\u001b[39m [[\u001b[38;5;241m0\u001b[39m,\u001b[38;5;241m8\u001b[39m,[\u001b[38;5;241m0\u001b[39m,\u001b[38;5;241m0\u001b[39m]]]\n\u001b[0;32m      4\u001b[0m heapq\u001b[38;5;241m.\u001b[39mheapify(li)\n\u001b[1;32m----> 5\u001b[0m heapq\u001b[38;5;241m.\u001b[39mheappush(li,\u001b[38;5;28;43mlist\u001b[39;49m\u001b[43m(\u001b[49m\u001b[38;5;241;43m1\u001b[39;49m\u001b[43m,\u001b[49m\u001b[38;5;241;43m7\u001b[39;49m\u001b[43m,\u001b[49m\u001b[43m[\u001b[49m\u001b[38;5;241;43m1\u001b[39;49m\u001b[43m,\u001b[49m\u001b[38;5;241;43m0\u001b[39;49m\u001b[43m]\u001b[49m\u001b[43m)\u001b[49m)\n\u001b[0;32m      6\u001b[0m \u001b[38;5;28mprint\u001b[39m(\u001b[38;5;28mlist\u001b[39m(li))\n",
      "\u001b[1;31mTypeError\u001b[0m: list expected at most 1 argument, got 3"
     ]
    }
   ],
   "source": [
    "#def FAstar(mz,source,target):\n",
    "import heapq\n",
    "li = cell\n",
    "heapq.heapify(li)\n",
    "heapq.heappush(li,list(1,7,[1,0]))\n",
    "print(list(li))"
   ]
  },
  {
   "cell_type": "code",
   "execution_count": 120,
   "id": "738f86e0",
   "metadata": {},
   "outputs": [
    {
     "name": "stdout",
     "output_type": "stream",
     "text": [
      "Collecting binary_heap\n",
      "  Downloading binary_heap-1.0.4.tar.gz (5.6 kB)\n",
      "Building wheels for collected packages: binary-heap\n",
      "  Building wheel for binary-heap (setup.py): started\n",
      "  Building wheel for binary-heap (setup.py): finished with status 'done'\n",
      "  Created wheel for binary-heap: filename=binary_heap-1.0.4-py3-none-any.whl size=6745 sha256=78180bd500ad49193225e80deda3500b809477b6d6245962f2e8e075ce286ac6\n",
      "  Stored in directory: c:\\users\\suraj\\appdata\\local\\pip\\cache\\wheels\\2a\\94\\a8\\364a43fcca0afa0dbefd7d02ccbe478f5fde4438c656771abe\n",
      "Successfully built binary-heap\n",
      "Installing collected packages: binary-heap\n",
      "Successfully installed binary-heap-1.0.4\n",
      "Note: you may need to restart the kernel to use updated packages.\n"
     ]
    }
   ],
   "source": [
    "pip install binary_heap"
   ]
  },
  {
   "cell_type": "code",
   "execution_count": 1,
   "id": "f5508e2b",
   "metadata": {},
   "outputs": [],
   "source": [
    "import binary_heap\n",
    "li = [[0,8,[0,0]]]\n",
    "\n",
    "    \n",
    "                    removalCell = grid[node_pos[0]][node_pos[1]\n",
    "                    print(removalCell.g)\n",
    "                    open_list.remove(removalCell)\n",
    "                    removalCell.g = curr_cell.g+1\n",
    "                    removalCell.set_hval(goal_cell_ind[0], goal_cell_ind[1])\n",
    "                    heapq.heappush(open_list,removalCell)\n"
   ]
  }
 ],
 "metadata": {
  "kernelspec": {
   "display_name": "Python 3 (ipykernel)",
   "language": "python",
   "name": "python3"
  },
  "language_info": {
   "codemirror_mode": {
    "name": "ipython",
    "version": 3
   },
   "file_extension": ".py",
   "mimetype": "text/x-python",
   "name": "python",
   "nbconvert_exporter": "python",
   "pygments_lexer": "ipython3",
   "version": "3.9.12"
  }
 },
 "nbformat": 4,
 "nbformat_minor": 5
}
