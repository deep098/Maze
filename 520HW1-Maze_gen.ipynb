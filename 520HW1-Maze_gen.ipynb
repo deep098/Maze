{
 "cells": [
  {
   "cell_type": "code",
   "execution_count": 53,
   "id": "c80649d3",
   "metadata": {},
   "outputs": [],
   "source": [
    "import math\n",
    "import numpy as np\n",
    "import random\n",
    "from random import choices\n",
    "from colorama import init, Fore"
   ]
  },
  {
   "cell_type": "code",
   "execution_count": 59,
   "id": "5365b582",
   "metadata": {},
   "outputs": [],
   "source": [
    "class cell:\n",
    "    def __init__(self,x,y):\n",
    "        self.x = x\n",
    "        self.y = y\n",
    "        self.b = False\n",
    "        self.g = 0\n",
    "        self.f = 0\n",
    "        self.h = 0\n",
    "        self.h_new = 0\n",
    "    def set_hval(self,t_x,t_y):\n",
    "        self.h = abs(t_x - self.x) + abs(t_y - self.y)\n",
    "        self.f = self.g + self.h"
   ]
  },
  {
   "cell_type": "code",
   "execution_count": 3,
   "id": "c894a6df",
   "metadata": {},
   "outputs": [
    {
     "name": "stdout",
     "output_type": "stream",
     "text": [
      "14 14\n"
     ]
    }
   ],
   "source": [
    "c = cell(1,2)\n",
    "c.set_hval(8,9)\n",
    "print(c.h, c.f)"
   ]
  },
  {
   "cell_type": "code",
   "execution_count": 57,
   "id": "9aa9d8d1",
   "metadata": {},
   "outputs": [],
   "source": [
    "class maze:\n",
    "    def __init__(self,rows,columns,sx,sy,tx,ty):\n",
    "        self.rows = rows\n",
    "        self.columns = columns\n",
    "        self.sx = sx\n",
    "        self.sy = sy\n",
    "        self.tx = tx\n",
    "        self.ty = ty\n",
    "        self.visited = [[False for i in range(self.rows)] for j in range(self.columns)]\n",
    "        self.options = ['b','u']\n",
    "        self.weights = [0.3,0.7]\n",
    "        self.drow = [0, 1, 0, -1]\n",
    "        self.dcol = [-1, 0, 1, 0]\n",
    "        #p = choices(self.options,self.weights)\n",
    "        #print(p)\n",
    "        self.mz = [] \n",
    "        for i in range(self.rows):\n",
    "            arr = []\n",
    "            for j in range(self.columns):\n",
    "                c = cell(i,j)\n",
    "                arr.append(c)\n",
    "            self.mz.append(arr)            \n",
    "    def isValid(self,r,c):\n",
    "        if (r < 0 or c < 0 or r >= self.rows or c >= self.columns):\n",
    "            return False\n",
    "        if (self.visited[r][c]):\n",
    "            return False\n",
    "        return True\n",
    "    def DFS(self,grid,sx,sy,tx,ty):\n",
    "        stk = []\n",
    "        stk.append([sx, sy])\n",
    "        while(len(stk)>0):\n",
    "            curr = stk[len(stk) - 1]\n",
    "            stk.remove(stk[len(stk) - 1])\n",
    "            r = curr[0]\n",
    "            c = curr[1]\n",
    "            if(self.isValid(r, c) == False):\n",
    "                continue\n",
    "            p = choices(self.options,self.weights)\n",
    "            self.visited[r][c] = True\n",
    "            if((r!= sx and c != sy) and (r!=tx or c != ty)):\n",
    "                if(p[0]== 'b'):\n",
    "                    self.mz[r][c].b = True\n",
    "            for i in range(4):\n",
    "                adjx = r + self.drow[i]\n",
    "                adjy = c + self.dcol[i]\n",
    "                stk.append([adjx, adjy])\n"
   ]
  },
  {
   "cell_type": "code",
   "execution_count": 58,
   "id": "70443898",
   "metadata": {},
   "outputs": [
    {
     "name": "stdout",
     "output_type": "stream",
     "text": [
      "\u001b[32m -\u001b[32m -\u001b[32m -\u001b[32m -\u001b[32m -\u001b[32m -\u001b[32m -\u001b[32m -\u001b[32m -\u001b[32m -\n",
      "\n",
      "\u001b[32m -\u001b[32m -\u001b[32m -\u001b[32m -\u001b[31m x\u001b[32m -\u001b[32m -\u001b[32m -\u001b[31m x\u001b[31m x\n",
      "\n",
      "\u001b[32m -\u001b[31m x\u001b[32m -\u001b[31m x\u001b[31m x\u001b[32m -\u001b[32m -\u001b[32m -\u001b[32m -\u001b[31m x\n",
      "\n",
      "\u001b[32m -\u001b[31m x\u001b[32m -\u001b[32m -\u001b[31m x\u001b[32m -\u001b[31m x\u001b[32m -\u001b[32m -\u001b[32m -\n",
      "\n",
      "\u001b[32m -\u001b[32m -\u001b[32m -\u001b[32m -\u001b[32m -\u001b[32m -\u001b[31m x\u001b[31m x\u001b[31m x\u001b[32m -\n",
      "\n",
      "\u001b[32m -\u001b[32m -\u001b[32m -\u001b[32m -\u001b[31m x\u001b[31m x\u001b[32m -\u001b[32m -\u001b[32m -\u001b[32m -\n",
      "\n",
      "\u001b[32m -\u001b[31m x\u001b[32m -\u001b[31m x\u001b[32m -\u001b[31m x\u001b[31m x\u001b[31m x\u001b[32m -\u001b[32m -\n",
      "\n",
      "\u001b[32m -\u001b[32m -\u001b[32m -\u001b[32m -\u001b[32m -\u001b[31m x\u001b[32m -\u001b[32m -\u001b[32m -\u001b[32m -\n",
      "\n",
      "\u001b[32m -\u001b[31m x\u001b[31m x\u001b[32m -\u001b[32m -\u001b[32m -\u001b[31m x\u001b[32m -\u001b[31m x\u001b[32m -\n",
      "\n",
      "\u001b[32m -\u001b[32m -\u001b[32m -\u001b[32m -\u001b[32m -\u001b[31m x\u001b[32m -\u001b[32m -\u001b[32m -\u001b[32m -\n",
      "\n"
     ]
    }
   ],
   "source": [
    "m = maze(10,10,0,0,9,9)\n",
    "m.DFS([],0,0,9,9)\n",
    "l = []\n",
    "for i in range(10):\n",
    "    a = []\n",
    "    for j in range(10):\n",
    "        if m.mz[i][j].b:\n",
    "            a.append('x')\n",
    "            print(Fore.RED, f'x', end=\"\")\n",
    "        else:\n",
    "            a.append('-')\n",
    "            print(Fore.GREEN, f'-', end=\"\")\n",
    "    l.append(a)\n",
    "    print('\\n')\n"
   ]
  }
 ],
 "metadata": {
  "kernelspec": {
   "display_name": "Python 3 (ipykernel)",
   "language": "python",
   "name": "python3"
  },
  "language_info": {
   "codemirror_mode": {
    "name": "ipython",
    "version": 3
   },
   "file_extension": ".py",
   "mimetype": "text/x-python",
   "name": "python",
   "nbconvert_exporter": "python",
   "pygments_lexer": "ipython3",
   "version": "3.9.12"
  }
 },
 "nbformat": 4,
 "nbformat_minor": 5
}
